{
 "cells": [
  {
   "cell_type": "code",
   "execution_count": null,
   "metadata": {},
   "outputs": [],
   "source": [
    "conda install -c anaconda scipy"
   ]
  },
  {
   "cell_type": "code",
   "execution_count": 124,
   "metadata": {},
   "outputs": [],
   "source": [
    "#KAPPA Y R0 EXCITON B\n",
    "import numpy as np\n",
    "import matplotlib.pyplot as plt\n",
    "from scipy import special as sp\n",
    "import scipy.linalg as la\n",
    "mu = 0.28\n",
    "c = 100\n",
    "a0 = (5.291772 * 10 ** -11)\n",
    "r0 = (28.5)\n",
    "k = 4.2\n",
    "zm = 26\n",
    "N = 33\n",
    "h = np.zeros((N,N))\n",
    "s = zm / (N + 1)\n",
    "G = mu * np.pi * (r0 * 10 ** -10) / (a0 * k ** 2) \n",
    "d1 = np.zeros(N)\n",
    "for i in range(N):\n",
    "    for j in range(N):\n",
    "        if i == j:\n",
    "            def U(i): return (sp.struve(0,i * s) - sp.yn(0,i * s))\n",
    "            h[i,j] = -G * U(i) + 2 / (s ** 2)\n",
    "        if i == j + 1:\n",
    "            h[i,j] = -1 / (s ** 2)\n",
    "        if i == j - 1:\n",
    "            h[i,j] = -1 / (s ** 2)\n",
    "h[0,0] = U(0.5*s)\n",
    "e = la.eig(h)\n",
    "e = sorted((k**2/(r0**2))*e[0])\n",
    "eb = np.multiply(c,[e[0],e[1],e[2],e[3]])\n",
    "# f estimaciones a (En-Eg)/Ry*W despejando r0 y kappa de W\n",
    "f = np.multiply(c,(-0.0198,-0.00772,-0.002573,-0.000367))\n",
    "q = np.subtract(eb,f)\n",
    "Q = np.abs(q)\n",
    "Err = np.sum(Q)*0.25"
   ]
  },
  {
   "cell_type": "code",
   "execution_count": 163,
   "metadata": {},
   "outputs": [
    {
     "name": "stdout",
     "output_type": "stream",
     "text": [
      "(array([2.32760345]), array([[0.0001571]]))\n"
     ]
    },
    {
     "data": {
      "text/plain": [
       "Text(0, 0.5, 'Energía [eV]')"
      ]
     },
     "execution_count": 163,
     "metadata": {},
     "output_type": "execute_result"
    },
    {
     "data": {
      "image/png": "[encoded data removed]",
      "text/plain": [
       "<Figure size 432x288 with 1 Axes>"
      ]
     },
     "metadata": {
      "needs_background": "light"
     },
     "output_type": "display_data"
    }
   ],
   "source": [
    "#AJUSTE A ENERGIAS\n",
    "import numpy as np\n",
    "import matplotlib.pyplot as plt\n",
    "from scipy import special as sp\n",
    "E = [2.07,2.235,2.305, 2.335]\n",
    "n = [1,2,3,4]\n",
    "plt.plot(n,E,'o')\n",
    "E2 = [2.305, 2.335]\n",
    "n2= [3,4]\n",
    "\n",
    "import numpy as np\n",
    "mu = 0.28 * (9.10 * 10 **-28)\n",
    "e =(4.80 * 10 ** -10)\n",
    "h = (1.05 * 10 ** -27)\n",
    "k = 4.4\n",
    "C = (6.24 * 10 ** 11) * ((mu * e ** 4) / (2 * np.pi * (h **2) * k **2))\n",
    "\n",
    "from scipy import optimize\n",
    "def test_func(n,Eg):\n",
    "\n",
    "    return Eg - C * (n- 0.5)**-2\n",
    "params = optimize.curve_fit(test_func, n2, E2,p0=[0.2])\n",
    "def excitonA(n): return 2.33- C * (n - 0.5)**-2\n",
    "print(params)\n",
    "n3 = np.linspace(1,4,1000)\n",
    "plt.plot(n3,excitonA(n3),'k')\n",
    "x= np.linspace(1,4,4)\n",
    "plt.xticks(x)\n",
    "plt.xlabel('Niveles energéticos')\n",
    "plt.ylabel('Energía [eV]')"
   ]
  },
  {
   "cell_type": "code",
   "execution_count": 113,
   "metadata": {},
   "outputs": [
    {
     "name": "stdout",
     "output_type": "stream",
     "text": [
      "1.2374603279625398\n",
      "25.1895\n"
     ]
    }
   ],
   "source": [
    "#ESTIMACION Z MAX\n",
    "import numpy as np\n",
    "from scipy import special as sp\n",
    "import matplotlib.pyplot as plt\n",
    "def P(x): return 2.575897578*(sp.struve(0,x) - sp.yn(0,x))\n",
    "x = np.linspace(0,35,100000)\n",
    "G = P(x)\n",
    "print(P(1))\n",
    "peques = G[G < 0.1*0.65]\n",
    "a = np.size(peques)\n",
    "s = 35 / 100000\n",
    "t = (100000 - a) * s\n",
    "print(t)"
   ]
  },
  {
   "cell_type": "code",
   "execution_count": 81,
   "metadata": {},
   "outputs": [
    {
     "name": "stdout",
     "output_type": "stream",
     "text": [
      "0.08663661889989674\n",
      "[28.80503145]\n"
     ]
    },
    {
     "data": {
      "text/plain": [
       "(20, 40)"
      ]
     },
     "execution_count": 81,
     "metadata": {},
     "output_type": "execute_result"
    },
    {
     "data": {
      "image/png": "[encoded data removed]",
      "text/plain": [
       "<Figure size 432x288 with 1 Axes>"
      ]
     },
     "metadata": {
      "needs_background": "light"
     },
     "output_type": "display_data"
    }
   ],
   "source": [
    "#OPTIMIZACION R0\n",
    "import numpy as np\n",
    "import matplotlib.pyplot as plt\n",
    "from scipy import special as sp\n",
    "import scipy.linalg as la\n",
    "mu = 0.28\n",
    "c = 100\n",
    "a0 = (5.291772 * 10 ** -11)\n",
    "zm = 26\n",
    "N = 33\n",
    "h = np.zeros((N,N))\n",
    "s = zm / (N + 1)\n",
    "d1 = np.zeros(N)\n",
    "y = np.zeros(500)\n",
    "for m in range(160,320):\n",
    "    def G(k): return mu * np.pi * (r0 * 10 ** -10) / (a0 * k ** 2) \n",
    "    for i in range(N):\n",
    "        for j in range(N):\n",
    "            if i == j:\n",
    "                def U(i): return (sp.struve(0,i * s) - sp.yn(0,i * s))\n",
    "                h[i,j] = -G(m/8) * U(i) + 2 / (s ** 2)\n",
    "            if i == j + 1:\n",
    "                h[i,j] = -1 / (s ** 2)\n",
    "            if i == j - 1:\n",
    "                h[i,j] = -1 / (s ** 2)\n",
    "    h[0,0] = U(0.5*s)\n",
    "    e = la.eig(h)\n",
    "    e = sorted((k**2/((m/8)**2))*e[0])\n",
    "    eb = np.multiply(c,[e[0],e[1],e[2],e[3]])\n",
    "    # f estimaciones a (En-Eg)/Ry*W despejando r0 y kappa de W\n",
    "    f = np.multiply(c,(-0.0198,-0.00772,-0.002573,-0.000367))\n",
    "    q = np.subtract(eb,f)\n",
    "    Q = np.abs(q)\n",
    "    Err = np.sum(Q)*0.25\n",
    "    y[m] = Err\n",
    "yb = y[y != 0]\n",
    "x = np.linspace(20,40,160)\n",
    "plt.plot(x,yb)\n",
    "minimo = min(yb)\n",
    "print(minimo)\n",
    "p = np.where(yb == minimo)\n",
    "rmin = x[p]\n",
    "print(rmin)\n",
    "plt.xlabel('r0')\n",
    "plt.ylabel('EAM')\n",
    "plt.xlim(20,40)"
   ]
  },
  {
   "cell_type": "code",
   "execution_count": 123,
   "metadata": {},
   "outputs": [
    {
     "name": "stdout",
     "output_type": "stream",
     "text": [
      "[(-0.839316268208135+0j), (-0.1923506947469116+0j), (-0.0766797216725047+0j), (-0.002033580488615082+0j)]\n",
      "(array([2.15479921]), array([[0.00049262]]))\n"
     ]
    },
    {
     "data": {
      "text/plain": [
       "Text(0, 0.5, 'Energía [eV]')"
      ]
     },
     "execution_count": 123,
     "metadata": {},
     "output_type": "execute_result"
    },
    {
     "data": {
      "image/png": "[encoded data removed]",
      "text/plain": [
       "<Figure size 432x288 with 1 Axes>"
      ]
     },
     "metadata": {
      "needs_background": "light"
     },
     "output_type": "display_data"
    }
   ],
   "source": [
    "#ANCHO BANDA EXCITON A\n",
    "import numpy as np\n",
    "import matplotlib.pyplot as plt\n",
    "from scipy import special as sp\n",
    "import scipy.linalg as la\n",
    "mu = 0.25\n",
    "c = 100\n",
    "a0 = (5.291772 * 10 ** -11)\n",
    "r0 = (28.8)\n",
    "k = 4.2\n",
    "zm = 26\n",
    "N = 33\n",
    "h = np.zeros((N,N))\n",
    "s = zm / (N + 1)\n",
    "G = mu * np.pi * (r0 * 10 ** -10) / (a0 * k ** 2) \n",
    "d1 = np.zeros(N)\n",
    "for i in range(N):\n",
    "    for j in range(N):\n",
    "        if i == j:\n",
    "            def U(i): return (sp.struve(0,i * s) - sp.yn(0,i * s))\n",
    "            h[i,j] = -G * U(i) + 2 / (s ** 2)\n",
    "        if i == j + 1:\n",
    "            h[i,j] = -1 / (s ** 2)\n",
    "        if i == j - 1:\n",
    "            h[i,j] = -1 / (s ** 2)\n",
    "h[0,0] = U(0.5*s)\n",
    "e = la.eig(h)\n",
    "e = sorted(e[0])\n",
    "eb = ([e[0],e[1],e[2],e[3]])\n",
    "print(eb)\n",
    "E = [1.926,2.089,2.127,2.101]\n",
    "\n",
    "from scipy import optimize\n",
    "def test_func(ep,Eg):\n",
    "    return Eg + 0.3388 *ep \n",
    "params = optimize.curve_fit(test_func, eb, E,p0=[2.3])\n",
    "print(params)\n",
    "def energia(t): return 2.18226438 + 0.3388 * t\n",
    "n = [1,2,3,4]\n",
    "plt.plot(n,E,'o')\n",
    "t = np.linspace(-0.839,-0.00203,1000)\n",
    "E2 = energia(t)\n",
    "x = np.linspace(1,4,1000)\n",
    "plt.plot(x,E2,'k')\n",
    "plt.xlabel('Niveles energéticos')\n",
    "plt.ylabel('Energía [eV]')\n",
    "\n"
   ]
  }
 ],
 "metadata": {
  "kernelspec": {
   "display_name": "Python 3",
   "language": "python",
   "name": "python3"
  }
 },
 "nbformat": 4,
 "nbformat_minor": 2
}
